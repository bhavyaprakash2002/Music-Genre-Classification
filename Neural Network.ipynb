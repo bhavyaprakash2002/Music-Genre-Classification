{
 "cells": [
  {
   "cell_type": "code",
   "execution_count": 13,
   "id": "5cc9b391",
   "metadata": {
    "scrolled": true
   },
   "outputs": [
    {
     "name": "stdout",
     "output_type": "stream",
     "text": [
      "WARNING:tensorflow:From C:\\Users\\Bhavya Prakash\\AppData\\Local\\Programs\\Python\\Python310\\lib\\site-packages\\keras\\src\\losses.py:2976: The name tf.losses.sparse_softmax_cross_entropy is deprecated. Please use tf.compat.v1.losses.sparse_softmax_cross_entropy instead.\n",
      "\n"
     ]
    }
   ],
   "source": [
    "import tensorflow as tf "
   ]
  },
  {
   "cell_type": "code",
   "execution_count": 12,
   "id": "16ce40eb",
   "metadata": {},
   "outputs": [],
   "source": [
    "import pandas as pd\n",
    "import numpy as np"
   ]
  },
  {
   "cell_type": "code",
   "execution_count": 2,
   "id": "dbdf3320",
   "metadata": {},
   "outputs": [],
   "source": [
    "from sklearn.model_selection import train_test_split"
   ]
  },
  {
   "cell_type": "code",
   "execution_count": 3,
   "id": "eae53800",
   "metadata": {
    "scrolled": true
   },
   "outputs": [],
   "source": [
    "x_mfccs = pd.read_csv(r\"C:\\Users\\Bhavya Prakash\\OneDrive\\Desktop\\Music Classification\\MFCCS.csv\")"
   ]
  },
  {
   "cell_type": "code",
   "execution_count": 4,
   "id": "9ed2117e",
   "metadata": {},
   "outputs": [],
   "source": [
    "x_mfccs_label = x_mfccs.Genre\n",
    "x_mfccs_feature = x_mfccs.iloc[:,:20]"
   ]
  },
  {
   "cell_type": "code",
   "execution_count": 5,
   "id": "44888209",
   "metadata": {},
   "outputs": [
    {
     "data": {
      "text/plain": [
       "(40549, 20)"
      ]
     },
     "execution_count": 5,
     "metadata": {},
     "output_type": "execute_result"
    }
   ],
   "source": [
    "x_mfccs_feature.shape"
   ]
  },
  {
   "cell_type": "code",
   "execution_count": 6,
   "id": "2317667a",
   "metadata": {},
   "outputs": [],
   "source": [
    "from sklearn.preprocessing import LabelEncoder"
   ]
  },
  {
   "cell_type": "code",
   "execution_count": 7,
   "id": "8392ee57",
   "metadata": {},
   "outputs": [],
   "source": [
    "LE = LabelEncoder()"
   ]
  },
  {
   "cell_type": "code",
   "execution_count": 8,
   "id": "981a734d",
   "metadata": {},
   "outputs": [],
   "source": [
    "x_mfccs_label = LE.fit_transform(x_mfccs_label)"
   ]
  },
  {
   "cell_type": "code",
   "execution_count": 9,
   "id": "c52480e9",
   "metadata": {},
   "outputs": [],
   "source": [
    "x_train_mfccs, x_test_mfccs, y_train_mfccs, y_test_mfccs = train_test_split(x_mfccs_feature, x_mfccs_label, test_size = 0.2)"
   ]
  },
  {
   "cell_type": "code",
   "execution_count": 14,
   "id": "fdf428ea",
   "metadata": {},
   "outputs": [],
   "source": [
    "from tensorflow.keras import Sequential\n",
    "from tensorflow.keras.layers import Dense"
   ]
  },
  {
   "cell_type": "code",
   "execution_count": 15,
   "id": "58db4f9d",
   "metadata": {},
   "outputs": [],
   "source": [
    "data_feature = np.array(x_train_mfccs) "
   ]
  },
  {
   "cell_type": "code",
   "execution_count": 16,
   "id": "34e5e3d7",
   "metadata": {},
   "outputs": [],
   "source": [
    "data_feature_1 = np.array(x_test_mfccs)"
   ]
  },
  {
   "cell_type": "code",
   "execution_count": 17,
   "id": "410f037e",
   "metadata": {
    "scrolled": true
   },
   "outputs": [],
   "source": [
    "x_train_mfccs = data_feature.reshape(data_feature.shape[0],-1)\n",
    "x_test_mfccs = data_feature_1.reshape(data_feature_1.shape[0],-1)"
   ]
  },
  {
   "cell_type": "code",
   "execution_count": 18,
   "id": "396bd37b",
   "metadata": {},
   "outputs": [
    {
     "data": {
      "text/plain": [
       "(32439, 20)"
      ]
     },
     "execution_count": 18,
     "metadata": {},
     "output_type": "execute_result"
    }
   ],
   "source": [
    "x_train_mfccs.shape"
   ]
  },
  {
   "cell_type": "code",
   "execution_count": 32,
   "id": "91fc780b",
   "metadata": {},
   "outputs": [
    {
     "data": {
      "text/plain": [
       "5"
      ]
     },
     "execution_count": 32,
     "metadata": {},
     "output_type": "execute_result"
    }
   ],
   "source": [
    "max(y_train_mfccs)"
   ]
  },
  {
   "cell_type": "code",
   "execution_count": 39,
   "id": "59016aed",
   "metadata": {
    "scrolled": true
   },
   "outputs": [],
   "source": [
    "model = Sequential()\n",
    "model.add(Dense(10, activation = 'relu', input_shape = (20,)))\n",
    "model.add(Dense(7, activation = 'relu'))\n",
    "model.add(Dense(6, activation = 'softmax'))"
   ]
  },
  {
   "cell_type": "code",
   "execution_count": 40,
   "id": "d415ef24",
   "metadata": {},
   "outputs": [],
   "source": [
    "model.compile(optimizer = 'adam', loss = 'categorical_crossentropy', metrics = ['accuracy'])"
   ]
  },
  {
   "cell_type": "code",
   "execution_count": 41,
   "id": "ee77a36c",
   "metadata": {},
   "outputs": [],
   "source": [
    "y_train_mfccs = tf.keras.utils.to_categorical(y_train_mfccs)\n",
    "y_test_mfccs = tf.keras.utils.to_categorical(y_test_mfccs)"
   ]
  },
  {
   "cell_type": "code",
   "execution_count": 46,
   "id": "b43a92f5",
   "metadata": {
    "scrolled": true
   },
   "outputs": [
    {
     "name": "stdout",
     "output_type": "stream",
     "text": [
      "Epoch 1/85\n",
      "16/16 [==============================] - 0s 4ms/step - loss: 0.8009 - accuracy: 0.7081\n",
      "Epoch 2/85\n",
      "16/16 [==============================] - 0s 4ms/step - loss: 0.7980 - accuracy: 0.7083\n",
      "Epoch 3/85\n",
      "16/16 [==============================] - 0s 4ms/step - loss: 0.7955 - accuracy: 0.7088\n",
      "Epoch 4/85\n",
      "16/16 [==============================] - 0s 4ms/step - loss: 0.7947 - accuracy: 0.7086\n",
      "Epoch 5/85\n",
      "16/16 [==============================] - 0s 4ms/step - loss: 0.7981 - accuracy: 0.7075\n",
      "Epoch 6/85\n",
      "16/16 [==============================] - 0s 4ms/step - loss: 0.7984 - accuracy: 0.7046\n",
      "Epoch 7/85\n",
      "16/16 [==============================] - 0s 4ms/step - loss: 0.7904 - accuracy: 0.7084\n",
      "Epoch 8/85\n",
      "16/16 [==============================] - 0s 4ms/step - loss: 0.7873 - accuracy: 0.7081\n",
      "Epoch 9/85\n",
      "16/16 [==============================] - 0s 4ms/step - loss: 0.7838 - accuracy: 0.7096\n",
      "Epoch 10/85\n",
      "16/16 [==============================] - 0s 4ms/step - loss: 0.7855 - accuracy: 0.7089\n",
      "Epoch 11/85\n",
      "16/16 [==============================] - 0s 4ms/step - loss: 0.7840 - accuracy: 0.7081\n",
      "Epoch 12/85\n",
      "16/16 [==============================] - 0s 4ms/step - loss: 0.7788 - accuracy: 0.7104\n",
      "Epoch 13/85\n",
      "16/16 [==============================] - 0s 4ms/step - loss: 0.7814 - accuracy: 0.7095\n",
      "Epoch 14/85\n",
      "16/16 [==============================] - 0s 4ms/step - loss: 0.7785 - accuracy: 0.7089\n",
      "Epoch 15/85\n",
      "16/16 [==============================] - 0s 5ms/step - loss: 0.7791 - accuracy: 0.7088\n",
      "Epoch 16/85\n",
      "16/16 [==============================] - 0s 4ms/step - loss: 0.7725 - accuracy: 0.7102\n",
      "Epoch 17/85\n",
      "16/16 [==============================] - 0s 4ms/step - loss: 0.7700 - accuracy: 0.7104\n",
      "Epoch 18/85\n",
      "16/16 [==============================] - 0s 4ms/step - loss: 0.7681 - accuracy: 0.7107\n",
      "Epoch 19/85\n",
      "16/16 [==============================] - 0s 4ms/step - loss: 0.7682 - accuracy: 0.7105\n",
      "Epoch 20/85\n",
      "16/16 [==============================] - 0s 4ms/step - loss: 0.7676 - accuracy: 0.7100\n",
      "Epoch 21/85\n",
      "16/16 [==============================] - 0s 4ms/step - loss: 0.7646 - accuracy: 0.7108\n",
      "Epoch 22/85\n",
      "16/16 [==============================] - 0s 4ms/step - loss: 0.7633 - accuracy: 0.7109\n",
      "Epoch 23/85\n",
      "16/16 [==============================] - 0s 4ms/step - loss: 0.7642 - accuracy: 0.7109\n",
      "Epoch 24/85\n",
      "16/16 [==============================] - 0s 4ms/step - loss: 0.7603 - accuracy: 0.7109\n",
      "Epoch 25/85\n",
      "16/16 [==============================] - 0s 4ms/step - loss: 0.7575 - accuracy: 0.7113\n",
      "Epoch 26/85\n",
      "16/16 [==============================] - 0s 4ms/step - loss: 0.7568 - accuracy: 0.7124\n",
      "Epoch 27/85\n",
      "16/16 [==============================] - 0s 4ms/step - loss: 0.7559 - accuracy: 0.7117\n",
      "Epoch 28/85\n",
      "16/16 [==============================] - 0s 5ms/step - loss: 0.7554 - accuracy: 0.7112\n",
      "Epoch 29/85\n",
      "16/16 [==============================] - 0s 4ms/step - loss: 0.7534 - accuracy: 0.7116\n",
      "Epoch 30/85\n",
      "16/16 [==============================] - 0s 4ms/step - loss: 0.7506 - accuracy: 0.7126\n",
      "Epoch 31/85\n",
      "16/16 [==============================] - 0s 4ms/step - loss: 0.7525 - accuracy: 0.7107\n",
      "Epoch 32/85\n",
      "16/16 [==============================] - 0s 5ms/step - loss: 0.7586 - accuracy: 0.7099\n",
      "Epoch 33/85\n",
      "16/16 [==============================] - 0s 4ms/step - loss: 0.7475 - accuracy: 0.7133\n",
      "Epoch 34/85\n",
      "16/16 [==============================] - 0s 4ms/step - loss: 0.7474 - accuracy: 0.7120\n",
      "Epoch 35/85\n",
      "16/16 [==============================] - 0s 4ms/step - loss: 0.7481 - accuracy: 0.7129\n",
      "Epoch 36/85\n",
      "16/16 [==============================] - 0s 4ms/step - loss: 0.7468 - accuracy: 0.7122\n",
      "Epoch 37/85\n",
      "16/16 [==============================] - 0s 4ms/step - loss: 0.7434 - accuracy: 0.7132\n",
      "Epoch 38/85\n",
      "16/16 [==============================] - 0s 5ms/step - loss: 0.7416 - accuracy: 0.7123\n",
      "Epoch 39/85\n",
      "16/16 [==============================] - 0s 4ms/step - loss: 0.7410 - accuracy: 0.7132\n",
      "Epoch 40/85\n",
      "16/16 [==============================] - 0s 4ms/step - loss: 0.7406 - accuracy: 0.7127\n",
      "Epoch 41/85\n",
      "16/16 [==============================] - 0s 4ms/step - loss: 0.7431 - accuracy: 0.7120\n",
      "Epoch 42/85\n",
      "16/16 [==============================] - 0s 4ms/step - loss: 0.7404 - accuracy: 0.7123\n",
      "Epoch 43/85\n",
      "16/16 [==============================] - 0s 4ms/step - loss: 0.7366 - accuracy: 0.7136\n",
      "Epoch 44/85\n",
      "16/16 [==============================] - 0s 4ms/step - loss: 0.7333 - accuracy: 0.7143\n",
      "Epoch 45/85\n",
      "16/16 [==============================] - 0s 4ms/step - loss: 0.7345 - accuracy: 0.7132\n",
      "Epoch 46/85\n",
      "16/16 [==============================] - 0s 4ms/step - loss: 0.7299 - accuracy: 0.7151\n",
      "Epoch 47/85\n",
      "16/16 [==============================] - 0s 4ms/step - loss: 0.7306 - accuracy: 0.7141\n",
      "Epoch 48/85\n",
      "16/16 [==============================] - 0s 4ms/step - loss: 0.7270 - accuracy: 0.7152\n",
      "Epoch 49/85\n",
      "16/16 [==============================] - 0s 4ms/step - loss: 0.7278 - accuracy: 0.7148\n",
      "Epoch 50/85\n",
      "16/16 [==============================] - 0s 4ms/step - loss: 0.7259 - accuracy: 0.7144\n",
      "Epoch 51/85\n",
      "16/16 [==============================] - 0s 4ms/step - loss: 0.7245 - accuracy: 0.7161\n",
      "Epoch 52/85\n",
      "16/16 [==============================] - 0s 4ms/step - loss: 0.7246 - accuracy: 0.7156\n",
      "Epoch 53/85\n",
      "16/16 [==============================] - 0s 4ms/step - loss: 0.7218 - accuracy: 0.7161\n",
      "Epoch 54/85\n",
      "16/16 [==============================] - 0s 4ms/step - loss: 0.7196 - accuracy: 0.7167\n",
      "Epoch 55/85\n",
      "16/16 [==============================] - 0s 4ms/step - loss: 0.7239 - accuracy: 0.7152\n",
      "Epoch 56/85\n",
      "16/16 [==============================] - 0s 4ms/step - loss: 0.7198 - accuracy: 0.7161\n",
      "Epoch 57/85\n",
      "16/16 [==============================] - 0s 4ms/step - loss: 0.7226 - accuracy: 0.7153\n",
      "Epoch 58/85\n",
      "16/16 [==============================] - 0s 4ms/step - loss: 0.7155 - accuracy: 0.7175\n",
      "Epoch 59/85\n",
      "16/16 [==============================] - 0s 4ms/step - loss: 0.7136 - accuracy: 0.7171\n",
      "Epoch 60/85\n",
      "16/16 [==============================] - 0s 4ms/step - loss: 0.7136 - accuracy: 0.7172\n",
      "Epoch 61/85\n",
      "16/16 [==============================] - 0s 4ms/step - loss: 0.7125 - accuracy: 0.7171\n",
      "Epoch 62/85\n",
      "16/16 [==============================] - 0s 4ms/step - loss: 0.7114 - accuracy: 0.7172\n",
      "Epoch 63/85\n",
      "16/16 [==============================] - 0s 4ms/step - loss: 0.7224 - accuracy: 0.7152\n",
      "Epoch 64/85\n",
      "16/16 [==============================] - 0s 4ms/step - loss: 0.7115 - accuracy: 0.7171\n",
      "Epoch 65/85\n",
      "16/16 [==============================] - 0s 4ms/step - loss: 0.7107 - accuracy: 0.7179\n",
      "Epoch 66/85\n",
      "16/16 [==============================] - 0s 5ms/step - loss: 0.7107 - accuracy: 0.7171\n",
      "Epoch 67/85\n",
      "16/16 [==============================] - 0s 4ms/step - loss: 0.7106 - accuracy: 0.7173\n",
      "Epoch 68/85\n",
      "16/16 [==============================] - 0s 7ms/step - loss: 0.7071 - accuracy: 0.7174\n",
      "Epoch 69/85\n",
      "16/16 [==============================] - 0s 10ms/step - loss: 0.7124 - accuracy: 0.7159\n",
      "Epoch 70/85\n",
      "16/16 [==============================] - 0s 10ms/step - loss: 0.7108 - accuracy: 0.7173\n",
      "Epoch 71/85\n",
      "16/16 [==============================] - 0s 11ms/step - loss: 0.7069 - accuracy: 0.7174\n",
      "Epoch 72/85\n",
      "16/16 [==============================] - 0s 10ms/step - loss: 0.7093 - accuracy: 0.7164\n",
      "Epoch 73/85\n",
      "16/16 [==============================] - 0s 13ms/step - loss: 0.7044 - accuracy: 0.7177\n",
      "Epoch 74/85\n",
      "16/16 [==============================] - 0s 9ms/step - loss: 0.7030 - accuracy: 0.7180\n",
      "Epoch 75/85\n",
      "16/16 [==============================] - 0s 9ms/step - loss: 0.7023 - accuracy: 0.7184\n",
      "Epoch 76/85\n",
      "16/16 [==============================] - 0s 9ms/step - loss: 0.7042 - accuracy: 0.7168\n",
      "Epoch 77/85\n",
      "16/16 [==============================] - 0s 9ms/step - loss: 0.7018 - accuracy: 0.7177\n",
      "Epoch 78/85\n",
      "16/16 [==============================] - 0s 10ms/step - loss: 0.7000 - accuracy: 0.7189\n",
      "Epoch 79/85\n",
      "16/16 [==============================] - 0s 11ms/step - loss: 0.6966 - accuracy: 0.7195\n",
      "Epoch 80/85\n",
      "16/16 [==============================] - 0s 11ms/step - loss: 0.6954 - accuracy: 0.7192\n",
      "Epoch 81/85\n",
      "16/16 [==============================] - 0s 9ms/step - loss: 0.6945 - accuracy: 0.7201\n",
      "Epoch 82/85\n",
      "16/16 [==============================] - 0s 9ms/step - loss: 0.6965 - accuracy: 0.7179\n",
      "Epoch 83/85\n"
     ]
    },
    {
     "name": "stdout",
     "output_type": "stream",
     "text": [
      "16/16 [==============================] - 0s 9ms/step - loss: 0.7004 - accuracy: 0.7180\n",
      "Epoch 84/85\n",
      "16/16 [==============================] - 0s 9ms/step - loss: 0.6994 - accuracy: 0.7173\n",
      "Epoch 85/85\n",
      "16/16 [==============================] - 0s 9ms/step - loss: 0.6941 - accuracy: 0.7196\n"
     ]
    },
    {
     "data": {
      "text/plain": [
       "<keras.src.callbacks.History at 0x20402037370>"
      ]
     },
     "execution_count": 46,
     "metadata": {},
     "output_type": "execute_result"
    }
   ],
   "source": [
    "model.fit(x_train_mfccs, y_train, epochs = 85, batch_size = 2056)"
   ]
  },
  {
   "cell_type": "code",
   "execution_count": 47,
   "id": "97d51b99",
   "metadata": {},
   "outputs": [
    {
     "name": "stdout",
     "output_type": "stream",
     "text": [
      "254/254 [==============================] - 1s 4ms/step - loss: 0.6798 - accuracy: 0.7295\n"
     ]
    },
    {
     "data": {
      "text/plain": [
       "[0.6797987222671509, 0.7294697761535645]"
      ]
     },
     "execution_count": 47,
     "metadata": {},
     "output_type": "execute_result"
    }
   ],
   "source": [
    "model.evaluate(x_test_mfccs, y_test_mfccs)"
   ]
  },
  {
   "cell_type": "code",
   "execution_count": 37,
   "id": "a21d3022",
   "metadata": {},
   "outputs": [
    {
     "name": "stdout",
     "output_type": "stream",
     "text": [
      "124/124 [==============================] - 1s 4ms/step\n"
     ]
    },
    {
     "data": {
      "text/plain": [
       "array([[9.9973053e-01],\n",
       "       [1.1808363e-02],\n",
       "       [9.9202663e-01],\n",
       "       ...,\n",
       "       [2.8233430e-06],\n",
       "       [9.9997038e-01],\n",
       "       [9.9666184e-01]], dtype=float32)"
      ]
     },
     "execution_count": 37,
     "metadata": {},
     "output_type": "execute_result"
    }
   ],
   "source": [
    "model.predict(x_test_mfccs)"
   ]
  },
  {
   "cell_type": "code",
   "execution_count": null,
   "id": "4e167843",
   "metadata": {},
   "outputs": [],
   "source": []
  }
 ],
 "metadata": {
  "kernelspec": {
   "display_name": "Python 3 (ipykernel)",
   "language": "python",
   "name": "python3"
  },
  "language_info": {
   "codemirror_mode": {
    "name": "ipython",
    "version": 3
   },
   "file_extension": ".py",
   "mimetype": "text/x-python",
   "name": "python",
   "nbconvert_exporter": "python",
   "pygments_lexer": "ipython3",
   "version": "3.10.4"
  }
 },
 "nbformat": 4,
 "nbformat_minor": 5
}
